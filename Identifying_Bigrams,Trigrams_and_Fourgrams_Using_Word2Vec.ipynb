{
  "nbformat": 4,
  "nbformat_minor": 0,
  "metadata": {
    "colab": {
      "name": "Identifying Bigrams,Trigrams and Fourgrams Using Word2Vec.ipynb",
      "version": "0.3.2",
      "provenance": [],
      "collapsed_sections": [],
      "toc_visible": true,
      "include_colab_link": true
    },
    "kernelspec": {
      "name": "python3",
      "display_name": "Python 3"
    },
    "accelerator": "TPU"
  },
  "cells": [
    {
      "cell_type": "markdown",
      "metadata": {
        "id": "view-in-github",
        "colab_type": "text"
      },
      "source": [
        "<a href=\"https://colab.research.google.com/github/ghostdogx/ngram-exploration/blob/master/Identifying_Bigrams%2CTrigrams_and_Fourgrams_Using_Word2Vec.ipynb\" target=\"_parent\"><img src=\"https://colab.research.google.com/assets/colab-badge.svg\" alt=\"Open In Colab\"/></a>"
      ]
    },
    {
      "cell_type": "markdown",
      "metadata": {
        "id": "plf71HqfNVl0",
        "colab_type": "text"
      },
      "source": [
        "# **1.0 Identify Phares from Gensim**"
      ]
    },
    {
      "cell_type": "code",
      "metadata": {
        "id": "7BTjJuHcM_IB",
        "colab_type": "code",
        "outputId": "07f345d7-08af-47d1-a44f-180db63c1ba8",
        "colab": {
          "base_uri": "https://localhost:8080/",
          "height": 734
        }
      },
      "source": [
        "#download necessacy packages\n",
        "!pip install gensim"
      ],
      "execution_count": 0,
      "outputs": [
        {
          "output_type": "stream",
          "text": [
            "Collecting gensim\n",
            "\u001b[?25l  Downloading https://files.pythonhosted.org/packages/27/a4/d10c0acc8528d838cda5eede0ee9c784caa598dbf40bd0911ff8d067a7eb/gensim-3.6.0-cp36-cp36m-manylinux1_x86_64.whl (23.6MB)\n",
            "\u001b[K    100% |████████████████████████████████| 23.6MB 1.6MB/s \n",
            "\u001b[?25hRequirement already satisfied: numpy>=1.11.3 in /usr/local/lib/python3.6/dist-packages (from gensim) (1.14.6)\n",
            "Collecting smart-open>=1.2.1 (from gensim)\n",
            "  Downloading https://files.pythonhosted.org/packages/4b/1f/6f27e3682124de63ac97a0a5876da6186de6c19410feab66c1543afab055/smart_open-1.7.1.tar.gz\n",
            "Requirement already satisfied: scipy>=0.18.1 in /usr/local/lib/python3.6/dist-packages (from gensim) (1.1.0)\n",
            "Requirement already satisfied: six>=1.5.0 in /usr/local/lib/python3.6/dist-packages (from gensim) (1.11.0)\n",
            "Collecting boto>=2.32 (from smart-open>=1.2.1->gensim)\n",
            "\u001b[?25l  Downloading https://files.pythonhosted.org/packages/23/10/c0b78c27298029e4454a472a1919bde20cb182dab1662cec7f2ca1dcc523/boto-2.49.0-py2.py3-none-any.whl (1.4MB)\n",
            "\u001b[K    100% |████████████████████████████████| 1.4MB 15.3MB/s \n",
            "\u001b[?25hCollecting bz2file (from smart-open>=1.2.1->gensim)\n",
            "  Downloading https://files.pythonhosted.org/packages/61/39/122222b5e85cd41c391b68a99ee296584b2a2d1d233e7ee32b4532384f2d/bz2file-0.98.tar.gz\n",
            "Requirement already satisfied: requests in /usr/local/lib/python3.6/dist-packages (from smart-open>=1.2.1->gensim) (2.18.4)\n",
            "Collecting boto3 (from smart-open>=1.2.1->gensim)\n",
            "\u001b[?25l  Downloading https://files.pythonhosted.org/packages/4c/c0/6f56fdc3d318b0f09201eee51a26a1a4778c3f965bc307945d03f85fcef9/boto3-1.9.43-py2.py3-none-any.whl (126kB)\n",
            "\u001b[K    100% |████████████████████████████████| 133kB 31.5MB/s \n",
            "\u001b[?25hRequirement already satisfied: urllib3<1.23,>=1.21.1 in /usr/local/lib/python3.6/dist-packages (from requests->smart-open>=1.2.1->gensim) (1.22)\n",
            "Requirement already satisfied: certifi>=2017.4.17 in /usr/local/lib/python3.6/dist-packages (from requests->smart-open>=1.2.1->gensim) (2018.10.15)\n",
            "Requirement already satisfied: idna<2.7,>=2.5 in /usr/local/lib/python3.6/dist-packages (from requests->smart-open>=1.2.1->gensim) (2.6)\n",
            "Requirement already satisfied: chardet<3.1.0,>=3.0.2 in /usr/local/lib/python3.6/dist-packages (from requests->smart-open>=1.2.1->gensim) (3.0.4)\n",
            "Collecting jmespath<1.0.0,>=0.7.1 (from boto3->smart-open>=1.2.1->gensim)\n",
            "  Downloading https://files.pythonhosted.org/packages/b7/31/05c8d001f7f87f0f07289a5fc0fc3832e9a57f2dbd4d3b0fee70e0d51365/jmespath-0.9.3-py2.py3-none-any.whl\n",
            "Collecting s3transfer<0.2.0,>=0.1.10 (from boto3->smart-open>=1.2.1->gensim)\n",
            "\u001b[?25l  Downloading https://files.pythonhosted.org/packages/d7/14/2a0004d487464d120c9fb85313a75cd3d71a7506955be458eebfe19a6b1d/s3transfer-0.1.13-py2.py3-none-any.whl (59kB)\n",
            "\u001b[K    100% |████████████████████████████████| 61kB 26.4MB/s \n",
            "\u001b[?25hCollecting botocore<1.13.0,>=1.12.43 (from boto3->smart-open>=1.2.1->gensim)\n",
            "\u001b[?25l  Downloading https://files.pythonhosted.org/packages/c4/d8/242e75a2d9df95510883b65d95c26dab16d2980296c5437782e4f961fbb6/botocore-1.12.43-py2.py3-none-any.whl (4.8MB)\n",
            "\u001b[K    100% |████████████████████████████████| 4.8MB 1.0MB/s \n",
            "\u001b[?25hRequirement already satisfied: python-dateutil<3.0.0,>=2.1 in /usr/local/lib/python3.6/dist-packages (from botocore<1.13.0,>=1.12.43->boto3->smart-open>=1.2.1->gensim) (2.5.3)\n",
            "Collecting docutils>=0.10 (from botocore<1.13.0,>=1.12.43->boto3->smart-open>=1.2.1->gensim)\n",
            "\u001b[?25l  Downloading https://files.pythonhosted.org/packages/36/fa/08e9e6e0e3cbd1d362c3bbee8d01d0aedb2155c4ac112b19ef3cae8eed8d/docutils-0.14-py3-none-any.whl (543kB)\n",
            "\u001b[K    100% |████████████████████████████████| 552kB 28.1MB/s \n",
            "\u001b[?25hBuilding wheels for collected packages: smart-open, bz2file\n",
            "  Running setup.py bdist_wheel for smart-open ... \u001b[?25l-\b \bdone\n",
            "\u001b[?25h  Stored in directory: /root/.cache/pip/wheels/23/00/44/e5b939f7a80c04e32297dbd6d96fa3065af89ecf57e2b5f89f\n",
            "  Running setup.py bdist_wheel for bz2file ... \u001b[?25l-\b \bdone\n",
            "\u001b[?25h  Stored in directory: /root/.cache/pip/wheels/81/75/d6/e1317bf09bf1af5a30befc2a007869fa6e1f516b8f7c591cb9\n",
            "Successfully built smart-open bz2file\n",
            "Installing collected packages: boto, bz2file, jmespath, docutils, botocore, s3transfer, boto3, smart-open, gensim\n",
            "Successfully installed boto-2.49.0 boto3-1.9.43 botocore-1.12.43 bz2file-0.98 docutils-0.14 gensim-3.6.0 jmespath-0.9.3 s3transfer-0.1.13 smart-open-1.7.1\n"
          ],
          "name": "stdout"
        }
      ]
    },
    {
      "cell_type": "code",
      "metadata": {
        "id": "Kd0_ByFlOKss",
        "colab_type": "code",
        "colab": {}
      },
      "source": [
        "#Imports\n",
        "import nltk\n",
        "#from gensim.models.phrases import Phraser\n",
        "from gensim.models import Phrases\n",
        "import gensim.models.keyedvectors as word2vec"
      ],
      "execution_count": 0,
      "outputs": []
    },
    {
      "cell_type": "code",
      "metadata": {
        "id": "STgZN5bbPnSU",
        "colab_type": "code",
        "outputId": "119d2305-ffa4-43d3-b227-dbadd63fbf02",
        "colab": {
          "base_uri": "https://localhost:8080/",
          "height": 173
        }
      },
      "source": [
        "from gensim.models import Phrases\n",
        "documents=[\"I am a good boy\",\"Rahul Ghandhi will be next Prime Minister\",\"APJ Abdul Kalam was an Indian scientist\"]\n",
        "sentence_stream = [doc.split(\" \") for doc in documents]\n",
        "\n",
        "#sentence_stream=brown_raw[0:10]\n",
        "bigram = Phrases(sentence_stream, min_count=1, delimiter=b' ')\n",
        "trigram = Phrases(bigram[sentence_stream], min_count=1, delimiter=b' ')\n",
        "\n",
        "for sent in sentence_stream:\n",
        "    bigrams_ = [b for b in bigram[sent] if b.count(' ') == 1]\n",
        "    trigrams_ = [t for t in trigram[bigram[sent]] if t.count(' ') == 2]\n",
        "\n",
        "    print(bigrams_)\n",
        "    print(trigrams_)"
      ],
      "execution_count": 0,
      "outputs": [
        {
          "output_type": "stream",
          "text": [
            "[]\n",
            "[]\n",
            "[]\n",
            "[]\n",
            "[]\n",
            "[]\n"
          ],
          "name": "stdout"
        },
        {
          "output_type": "stream",
          "text": [
            "/usr/local/lib/python3.6/dist-packages/gensim/models/phrases.py:598: UserWarning: For a faster implementation, use the gensim.models.phrases.Phraser class\n",
            "  warnings.warn(\"For a faster implementation, use the gensim.models.phrases.Phraser class\")\n"
          ],
          "name": "stderr"
        }
      ]
    },
    {
      "cell_type": "markdown",
      "metadata": {
        "id": "DD5Nv3uLjk-D",
        "colab_type": "text"
      },
      "source": [
        "**Here in above Gensim Phraser works on basis of count based.Suppose if you have very less data than this doesnt work.**"
      ]
    },
    {
      "cell_type": "markdown",
      "metadata": {
        "id": "x2Xv8Y9y1iAT",
        "colab_type": "text"
      },
      "source": [
        "# **2.0 Using Pre-trained model of Word2Vec**"
      ]
    },
    {
      "cell_type": "markdown",
      "metadata": {
        "id": "fUVMngXB2BBL",
        "colab_type": "text"
      },
      "source": [
        "## **2.1 Download the pre-trained Model**"
      ]
    },
    {
      "cell_type": "code",
      "metadata": {
        "id": "x37z1Y_l1K9b",
        "colab_type": "code",
        "outputId": "0fc8f1e9-7c8b-4abc-c08e-72a3c0a860e1",
        "colab": {
          "base_uri": "https://localhost:8080/",
          "height": 204
        }
      },
      "source": [
        "!wget \"https://s3.amazonaws.com/dl4j-distribution/GoogleNews-vectors-negative300.bin.gz\""
      ],
      "execution_count": 0,
      "outputs": [
        {
          "output_type": "stream",
          "text": [
            "--2018-11-13 12:10:12--  https://s3.amazonaws.com/dl4j-distribution/GoogleNews-vectors-negative300.bin.gz\n",
            "Resolving s3.amazonaws.com (s3.amazonaws.com)... 52.216.162.125\n",
            "Connecting to s3.amazonaws.com (s3.amazonaws.com)|52.216.162.125|:443... connected.\n",
            "HTTP request sent, awaiting response... 200 OK\n",
            "Length: 1647046227 (1.5G) [application/x-gzip]\n",
            "Saving to: ‘GoogleNews-vectors-negative300.bin.gz’\n",
            "\n",
            "GoogleNews-vectors- 100%[===================>]   1.53G  33.6MB/s    in 89s     \n",
            "\n",
            "2018-11-13 12:11:42 (17.6 MB/s) - ‘GoogleNews-vectors-negative300.bin.gz’ saved [1647046227/1647046227]\n",
            "\n"
          ],
          "name": "stdout"
        }
      ]
    },
    {
      "cell_type": "code",
      "metadata": {
        "id": "z7SOrj1i2JRl",
        "colab_type": "code",
        "colab": {}
      },
      "source": [
        "model=word2vec.KeyedVectors.load_word2vec_format('GoogleNews-vectors-negative300.bin.gz', binary=True)"
      ],
      "execution_count": 0,
      "outputs": []
    },
    {
      "cell_type": "markdown",
      "metadata": {
        "id": "5NPwHc8vkq0Y",
        "colab_type": "text"
      },
      "source": [
        "# **3.0 Generate all bigrams,trigrams and fourgrams from the brown corpus**"
      ]
    },
    {
      "cell_type": "code",
      "metadata": {
        "id": "qspuuO1DjjVF",
        "colab_type": "code",
        "outputId": "0212d421-dd5b-4881-879d-8b300262696a",
        "colab": {
          "base_uri": "https://localhost:8080/",
          "height": 88
        }
      },
      "source": [
        "#import numpy as np\n",
        "#from scipy import spatial\n",
        "index2word=model.wv.index2word\n",
        "print(\"The number of words:\",len(index2word))"
      ],
      "execution_count": 0,
      "outputs": [
        {
          "output_type": "stream",
          "text": [
            "The number of words: 3000000\n"
          ],
          "name": "stdout"
        },
        {
          "output_type": "stream",
          "text": [
            "/usr/local/lib/python3.6/dist-packages/ipykernel_launcher.py:1: DeprecationWarning: Call to deprecated `wv` (Attribute will be removed in 4.0.0, use self instead).\n",
            "  \"\"\"Entry point for launching an IPython kernel.\n"
          ],
          "name": "stderr"
        }
      ]
    },
    {
      "cell_type": "code",
      "metadata": {
        "id": "CIe_BqU0kKEh",
        "colab_type": "code",
        "colab": {}
      },
      "source": [
        "from nltk import ngrams\n",
        "Sentences=\"I am a good boy . Rahul Ghandhi will be next Prime Minister . APJ Abdul Kalam was an Indian scientist \"\n",
        "bigram=list(ngrams(Sentences.lower().split(),2))\n",
        "trigram=list(ngrams(Sentences.lower().split(),3))\n",
        "fourgram=list(ngrams(Sentences.lower().split(),4))"
      ],
      "execution_count": 0,
      "outputs": []
    },
    {
      "cell_type": "code",
      "metadata": {
        "id": "6zSJL5t4lJVX",
        "colab_type": "code",
        "outputId": "4a2ca123-72b4-4872-ffb9-c489825dfb47",
        "colab": {
          "base_uri": "https://localhost:8080/",
          "height": 187
        }
      },
      "source": [
        "bigram[0:10]"
      ],
      "execution_count": 0,
      "outputs": [
        {
          "output_type": "execute_result",
          "data": {
            "text/plain": [
              "[('i', 'am'),\n",
              " ('am', 'a'),\n",
              " ('a', 'good'),\n",
              " ('good', 'boy'),\n",
              " ('boy', '.'),\n",
              " ('.', 'rahul'),\n",
              " ('rahul', 'ghandhi'),\n",
              " ('ghandhi', 'will'),\n",
              " ('will', 'be'),\n",
              " ('be', 'next')]"
            ]
          },
          "metadata": {
            "tags": []
          },
          "execution_count": 8
        }
      ]
    },
    {
      "cell_type": "code",
      "metadata": {
        "id": "ubdM_QMm2ojg",
        "colab_type": "code",
        "outputId": "47c0ff3f-359d-41b4-9902-616942b45b2e",
        "colab": {
          "base_uri": "https://localhost:8080/",
          "height": 187
        }
      },
      "source": [
        "trigram[0:10]"
      ],
      "execution_count": 0,
      "outputs": [
        {
          "output_type": "execute_result",
          "data": {
            "text/plain": [
              "[('i', 'am', 'a'),\n",
              " ('am', 'a', 'good'),\n",
              " ('a', 'good', 'boy'),\n",
              " ('good', 'boy', '.'),\n",
              " ('boy', '.', 'rahul'),\n",
              " ('.', 'rahul', 'ghandhi'),\n",
              " ('rahul', 'ghandhi', 'will'),\n",
              " ('ghandhi', 'will', 'be'),\n",
              " ('will', 'be', 'next'),\n",
              " ('be', 'next', 'prime')]"
            ]
          },
          "metadata": {
            "tags": []
          },
          "execution_count": 9
        }
      ]
    },
    {
      "cell_type": "code",
      "metadata": {
        "id": "ACCBgsp92szM",
        "colab_type": "code",
        "outputId": "5afc60e5-0dfb-41ce-ad37-31cf3a7f6f73",
        "colab": {
          "base_uri": "https://localhost:8080/",
          "height": 187
        }
      },
      "source": [
        "fourgram[0:10]"
      ],
      "execution_count": 0,
      "outputs": [
        {
          "output_type": "execute_result",
          "data": {
            "text/plain": [
              "[('i', 'am', 'a', 'good'),\n",
              " ('am', 'a', 'good', 'boy'),\n",
              " ('a', 'good', 'boy', '.'),\n",
              " ('good', 'boy', '.', 'rahul'),\n",
              " ('boy', '.', 'rahul', 'ghandhi'),\n",
              " ('.', 'rahul', 'ghandhi', 'will'),\n",
              " ('rahul', 'ghandhi', 'will', 'be'),\n",
              " ('ghandhi', 'will', 'be', 'next'),\n",
              " ('will', 'be', 'next', 'prime'),\n",
              " ('be', 'next', 'prime', 'minister')]"
            ]
          },
          "metadata": {
            "tags": []
          },
          "execution_count": 10
        }
      ]
    },
    {
      "cell_type": "code",
      "metadata": {
        "id": "N4QF8DdC3IJq",
        "colab_type": "code",
        "outputId": "63f4b889-1f87-459d-81ed-cfbe0e3dae88",
        "colab": {
          "base_uri": "https://localhost:8080/",
          "height": 34
        }
      },
      "source": [
        "print(\"Total pairs generated are:\",len(bigram+trigram+fourgram))"
      ],
      "execution_count": 0,
      "outputs": [
        {
          "output_type": "stream",
          "text": [
            "Total pairs generated are: 57\n"
          ],
          "name": "stdout"
        }
      ]
    },
    {
      "cell_type": "markdown",
      "metadata": {
        "id": "9Wet-W3hpeDL",
        "colab_type": "text"
      },
      "source": [
        "# **4.0 Identify Phrases(bigrams,trigrams,fourgrams) Using Word2Vec**"
      ]
    },
    {
      "cell_type": "code",
      "metadata": {
        "id": "vs4MrP2YlLWS",
        "colab_type": "code",
        "outputId": "60892501-6f0d-4e9a-dc96-f224af761ac1",
        "colab": {
          "base_uri": "https://localhost:8080/",
          "height": 204
        }
      },
      "source": [
        "print(\"Bigrams:\")\n",
        "[word for word in index2word for x in bigram  if word.lower()==x[0]+\"_\"+x[1]]"
      ],
      "execution_count": 0,
      "outputs": [
        {
          "output_type": "stream",
          "text": [
            "Bigrams:\n"
          ],
          "name": "stdout"
        },
        {
          "output_type": "execute_result",
          "data": {
            "text/plain": [
              "['prime_minister',\n",
              " 'Prime_Minister',\n",
              " 'WILL_BE',\n",
              " 'PRIME_Minister',\n",
              " 'PRIME_MINISTER',\n",
              " 'Abdul_Kalam',\n",
              " 'AN_INDIAN',\n",
              " 'Prime_MInister',\n",
              " 'WAS_AN',\n",
              " 'GOOD_BOY']"
            ]
          },
          "metadata": {
            "tags": []
          },
          "execution_count": 12
        }
      ]
    },
    {
      "cell_type": "code",
      "metadata": {
        "id": "Wk0Fdra2mFN_",
        "colab_type": "code",
        "outputId": "1c3cec82-3ea9-4cf8-972c-9d1c6bbfee92",
        "colab": {
          "base_uri": "https://localhost:8080/",
          "height": 51
        }
      },
      "source": [
        "print(\"Trigrams:\")\n",
        "[word for word in index2word for x in trigram  if word.lower()==x[0]+\"_\"+x[1]+\"_\"+x[2] ]"
      ],
      "execution_count": 0,
      "outputs": [
        {
          "output_type": "stream",
          "text": [
            "Trigrams:\n"
          ],
          "name": "stdout"
        },
        {
          "output_type": "execute_result",
          "data": {
            "text/plain": [
              "['APJ_Abdul_Kalam']"
            ]
          },
          "metadata": {
            "tags": []
          },
          "execution_count": 13
        }
      ]
    },
    {
      "cell_type": "code",
      "metadata": {
        "id": "5H-Bn1C6AbJl",
        "colab_type": "code",
        "colab": {}
      },
      "source": [
        ""
      ],
      "execution_count": 0,
      "outputs": []
    }
  ]
}